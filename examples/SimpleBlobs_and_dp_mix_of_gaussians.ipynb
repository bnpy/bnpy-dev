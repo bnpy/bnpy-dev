{
 "cells": [
  {
   "cell_type": "code",
   "execution_count": 110,
   "metadata": {
    "collapsed": true
   },
   "outputs": [],
   "source": [
    "import numpy as np"
   ]
  },
  {
   "cell_type": "code",
   "execution_count": 129,
   "metadata": {
    "collapsed": true
   },
   "outputs": [],
   "source": [
    "import bnpy"
   ]
  },
  {
   "cell_type": "code",
   "execution_count": 130,
   "metadata": {
    "collapsed": false
   },
   "outputs": [
    {
     "name": "stdout",
     "output_type": "stream",
     "text": [
      "Populating the interactive namespace from numpy and matplotlib\n"
     ]
    }
   ],
   "source": [
    "from matplotlib import pylab\n",
    "%pylab inline"
   ]
  },
  {
   "cell_type": "markdown",
   "metadata": {},
   "source": [
    "# Create dataset"
   ]
  },
  {
   "cell_type": "code",
   "execution_count": 131,
   "metadata": {
    "collapsed": false
   },
   "outputs": [],
   "source": [
    "prng = np.random.RandomState(0)\n",
    "X_a_NaD = -2.0 + 0.1 * prng.randn(500, 2) # Lots of points at (-2, -2)\n",
    "X_b_NbD =  2.0 + 0.1 * prng.randn(500, 2) # Lots of poitns at (2, 2)\n",
    "X_c_NcD = [-2, 2] + 0.1 * prng.randn(5, 2)   # Very few points at (-2, 2)\n",
    "X_ND = np.vstack([X_a_NaD, X_b_NbD, X_c_NcD])\n",
    "prng.shuffle(X_ND)\n",
    "data = bnpy.data.XData(X_ND)"
   ]
  },
  {
   "cell_type": "code",
   "execution_count": 158,
   "metadata": {
    "collapsed": false
   },
   "outputs": [
    {
     "name": "stdout",
     "output_type": "stream",
     "text": [
      "User input\n",
      "-- K 10\n",
      "-- init_procedure LP_from_rand_examples\n",
      "-- n_laps 5\n",
      "-- seed 0\n",
      "Dataset\n",
      "  num examples: 1005\n",
      "  num dims: 2\n",
      "Initialization\n",
      "Training...\n",
      "-2.73911e+03\n",
      "-2.76575e+03\n",
      "-2.79320e+03\n",
      "-2.80132e+03\n",
      "-2.81105e+03\n"
     ]
    }
   ],
   "source": [
    "info_list = list()\n",
    "for ii in xrange(1):\n",
    "    GP, info_dict = bnpy.train_model(\n",
    "        data, 'dp_mix_vb', 'gauss_diag_covar_vb', 'coord_descent',\n",
    "        n_laps=5, \n",
    "        K=10,\n",
    "        init_procedure='LP_from_rand_examples',\n",
    "        seed=ii)\n",
    "    info_list.append(info_dict)"
   ]
  },
  {
   "cell_type": "code",
   "execution_count": 159,
   "metadata": {
    "collapsed": false
   },
   "outputs": [],
   "source": [
    "model = bnpy.alloc_models.hierarchical_model.make_model(info_dict['mod_list'], GP, None)"
   ]
  },
  {
   "cell_type": "code",
   "execution_count": 161,
   "metadata": {
    "collapsed": false
   },
   "outputs": [
    {
     "data": {
      "image/png": "[encoded data removed]",
      "text/plain": [
       "<matplotlib.figure.Figure at 0x10e724510>"
      ]
     },
     "metadata": {},
     "output_type": "display_data"
    }
   ],
   "source": [
    "bnpy.viz.gauss_viz.plot_gauss_2D_from_common_params(\n",
    "    data=data, **common_GP)\n",
    "#pylab.plot(data.X[:, 0], data.X[:, 1], 'k.');"
   ]
  }
 ],
 "metadata": {
  "kernelspec": {
   "display_name": "Python [Root]",
   "language": "python",
   "name": "Python [Root]"
  },
  "language_info": {
   "codemirror_mode": {
    "name": "ipython",
    "version": 2
   },
   "file_extension": ".py",
   "mimetype": "text/x-python",
   "name": "python",
   "nbconvert_exporter": "python",
   "pygments_lexer": "ipython2",
   "version": "2.7.12"
  }
 },
 "nbformat": 4,
 "nbformat_minor": 0
}
